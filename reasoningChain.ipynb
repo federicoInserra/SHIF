{
 "cells": [
  {
   "cell_type": "code",
   "execution_count": 126,
   "metadata": {},
   "outputs": [],
   "source": [
    "import requests\n",
    "import json\n",
    "\n",
    "# USER: “I am interested in investing more on companies active on climate change. What are some of the news about that?”\n",
    "# ** vector search on RSS news **\n",
    "# BOT: “Here some relevant news about..”\n",
    "# USER: “Could you suggest a fund with a focus on this?”\n",
    "# ** vector serach on funds **\n",
    "# BOT: “You might be interested in the CCSF found”\n",
    "# USER: “Cool. What are some of the risks associated with this investment?”\n",
    "# ** vector search on funds_chunks **\n",
    "# BOT: “Some of the risks are blabla”\n",
    "\n",
    "def firstKeyVal(d):\n",
    "    return list(d.values())[0]\n",
    "\n",
    "def formatResult(result):\n",
    "    metadata = \"\\n\".join(result.get('tags',[]) + result.get('nasdaq_tickers',[]))\n",
    "    title = firstKeyVal(result['title'])\n",
    "    summary = firstKeyVal(result['summary'])\n",
    "    content = \"\\n\".join(firstKeyVal(result['content']))\n",
    "\n",
    "    return f\"# Title\\n{title}\\n# Summary\\n{summary}\\n# Content\\n{content}\\n# Metadata\\n{metadata}\\n\"\n",
    "\n",
    "def runChat(queryPrompt,systemPrompt):\n",
    "    return requests.post(\"https://eu-central-1.aws.data.mongodb-api.com/app/shif-ibfjf/endpoint/getGpt35turbo\",json={\"prompt\": queryPrompt,\"systemPrompt\": systemPrompt}).json()\n",
    "\n",
    "def runChat4(queryPrompt,systemPrompt):\n",
    "    return requests.post(\"https://eu-central-1.aws.data.mongodb-api.com/app/shif-ibfjf/endpoint/getGpt4\",json={\"prompt\": queryPrompt,\"systemPrompt\": systemPrompt}).json()\n",
    "\n",
    "def runResultPicker(query,formattedResults):\n",
    "    systemPrompt = \"\"\"You are a financial analyst providing advice and guidance to a client\"\"\"\n",
    "    queryPrompt = f\"\"\"Pick the 5 results that can best be used to address the client's query: {query}.\n",
    "    Explain why you chose them.\n",
    "    You must provide your answer in the form:{{\"results\":[<list of {{\"title\":<result title>,\"content\":<result content>}}>],\"explanation\":<explanation>}}\n",
    "    Here are the results:\n",
    "    {formattedResults}\"\"\"\n",
    "    return runChat(queryPrompt,systemPrompt)\n",
    "\n",
    "def formatResults(results):\n",
    "    return \"\\n\".join([f\"{i+1}. From: {result.get('parent_link','')}\\n{result['content']}\" for i, result in enumerate(results)])\n",
    "\n",
    "def vectorSearch(query,collName,searchIndex,fields):\n",
    "    r = requests.post(f\"https://eu-central-1.aws.data.mongodb-api.com/app/shif-ibfjf/endpoint/vectorSearch?query={query}&limit=10&numCandidates=100&collName={collName}&searchIndex={searchIndex}&fields={fields}\").json()\n",
    "    results = r['results']\n",
    "    metadata = r['metadata']\n",
    "    return {\n",
    "        \"results\": results,\n",
    "        \"metadata\": metadata,\n",
    "        \"formatted\": formatResults(results)\n",
    "    }\n",
    "\n",
    "def textSearch(query,collName,searchIndex,fields):\n",
    "    r = requests.get(f\"https://eu-central-1.aws.data.mongodb-api.com/app/shif-ibfjf/endpoint/textSearch?query={query}&limit=10&collName={collName}&searchIndex={searchIndex}&fields={fields}\").json()\n",
    "    results = r['results']\n",
    "    metadata = r['metadata']\n",
    "    return {\n",
    "        'results': results,\n",
    "        'metadata': metadata,\n",
    "        \"formatted\": formatResults(results)\n",
    "    }"
   ]
  },
  {
   "cell_type": "code",
   "execution_count": 128,
   "metadata": {},
   "outputs": [
    {
     "name": "stdout",
     "output_type": "stream",
     "text": [
      "{\"vector\":[\"climate change companies\", \"sustainable investing\", \"carbon footprint reduction\"], \"lexical\":[\"climate change\", \"environmental sustainability\", \"renewable energy firms\"]}\n"
     ]
    }
   ],
   "source": [
    "query = \"I am interested in investing more on companies active on climate change.\"\n",
    "systemPrompt = \"\"\"You are a reasoning engine tasked with providing financial guidance.\n",
    "You have access to the following data in MongoDB:\n",
    "- A collection of nasdaq and business news article chunks with the following fields: title, summary, content, tags, nasdaq_tickers.\n",
    "- A collection of fund chunks with the following fields: fund_name, content.\n",
    "- A lexical search index on the chunked data which is good for matching keywords and phrases.\n",
    "- A vector search index on the embedded chunked data which is good for semantic search.\n",
    "\"\"\"\n",
    "queryPrompt = f\"\"\"Create three phrases which can be embedded for vector search, and three phrases for lexical search, to retrieve data to use in a gpt prompt to answer this query: {query}\n",
    "You must provide your answer in the form {{\"vector\":[<vector search phrases>], \"lexical\":[<lexical search phrases>]}}\"\"\"\n",
    "\n",
    "searchPhrases = runChat(queryPrompt,systemPrompt)\n",
    "print(searchPhrases)"
   ]
  },
  {
   "cell_type": "code",
   "execution_count": 100,
   "metadata": {},
   "outputs": [
    {
     "name": "stdout",
     "output_type": "stream",
     "text": [
      "{'vector': ['companies taking action on climate change', 'renewable energy industry leaders', 'green initiatives in business'], 'lexical': ['climate change', 'renewable energy', 'CO2 emissions reduction']}\n"
     ]
    }
   ],
   "source": [
    "queries = json.loads(searchPhrases)\n",
    "print(queries)\n",
    "all_vector_results = [vectorSearch(query,'docs_chunks','vectorIndex','content,parent_link') for query in queries['vector']]\n",
    "all_lexical_results = [textSearch(query,'docs_chunks','searchIndex','content,parent_link') for query in queries['lexical']]"
   ]
  },
  {
   "cell_type": "code",
   "execution_count": 121,
   "metadata": {},
   "outputs": [
    {
     "name": "stdout",
     "output_type": "stream",
     "text": [
      "I chose these results because they provide information about investing in companies that are taking action or involved in climate change, such as tracking global methane emissions, involvement in low-carbon fuel production, and exposure to companies leading the transition towards a low-carbon economy. These results also mention regulations related to methane pollution and reducing fashion's environmental impact. [{'title': 'Google-backed satellite to track global oil industry methane emissions', 'content': 'We\\'ll be able to see who the laggards are, but hopefully they will use that information in a constructive way to improve their performance,\" said  Mark Brownstein, senior vice president for energy transition at EDF.'}, {'title': 'Oil Unchanged as Traders Take Profits on News of Expected Extension of Voluntary Output Cuts by OPEC+', 'content': \"In a significant development for the advancement of low-carbon fuel production, Summit Carbon Solutions (Summit) announced that\\xa0Valero, the world's second-largest corn ethanol producer and a leader in low-carbon transportation fuels production, will be a shipper on Summit's pipeline, as part of the largest proposed carbon capture and storage project in the world.\"}, {'title': 'Seizing Future Opportunities: BlackRock’s Mega Forces and Thematic ETF Investing', 'content': 'The imperative to mitigate climate change is driving investments in renewable energy, energy-efficient technologies, and sustainable infrastructure. ETFs specializing in clean energy or environmental sustainability offer exposure to companies leading the transition towards a low-carbon economy.'}, {'title': 'Google-backed satellite to track global oil industry methane emissions', 'content': 'The environmental regulator is still going to be paramount here as the authority in terms of validating the data,” said Aaron Padilla, API vice president of corporate policy.'}, {'title': 'Google-backed satellite to track global oil industry methane emissions', 'content': \"A new satellite backed by Alphabet Inc's Google and the Environmental Defense Fund group will launch from California on Monday with a mission to pinpoint oil and gas industry methane emissions from space.\"}]\n",
      "The chosen results address the client's query as they provide information on investment opportunities in companies aligned with climate change action, such as those in clean energy, copper production, and natural gas infrastructure for clean energy solutions. Moreover, a new satellite project supported by Google and Environmental Defense Fund to track methane emissions from oil and gas industries and a wind power project acquisition by Norsk Hydro's renewable energy unit show examples of innovative approaches towards climate change mitigation. [{'title': 'Seizing Future Opportunities: BlackRock’s Mega Forces and Thematic ETF Investing', 'content': 'The imperative to mitigate climate change is driving investments in renewable energy, energy-efficient technologies, and sustainable infrastructure. ETFs specializing in clean energy or environmental sustainability offer exposure to companies leading the transition towards a low-carbon economy.'}, {'title': 'Capture This Year’s Constructive Copper Outlook', 'content': \"Copper is vital to the energy transition. It's used in electric vehicles, efficient power grids, renewable energies, and more.\"}, {'title': 'Google-backed satellite to track global oil industry methane emissions', 'content': \"A new satellite backed by Alphabet Inc's Google and the Environmental Defense Fund group will launch from California on Monday with a mission to pinpoint oil and gas industry methane emissions from space.\"}, {'title': 'Norsk Hydro unit to buy 80% stake in wind power projects', 'content': \"Norsk Hydro's renewable energy unit Hydro Rein has agreed with Swedish renewables developer IOWN Energy to buy an 80% stake in a 2.4 gigawatt portfolio of planned wind power projects in Sweden and Norway, it said on Tuesday.\"}, {'title': 'Deutsche Bank Downgrades New Fortress Energy (NFE)', 'content': \"New Fortress Energy Inc.\\xa0is a global energy infrastructure company founded to help accelerate the world's transition to clean energy. The company funds, builds and operates natural gas infrastructure and logistics to rapidly deliver fully integrated, turnkey energy solutions that enable economic growth, enhance environmental stewardship and transform local industries and communities.\"}]\n"
     ]
    }
   ],
   "source": [
    "formatted_vector_results = '\\n'.join([r['formatted'] for r in all_vector_results])\n",
    "formatted_lexical_results = '\\n'.join([r['formatted'] for r in all_lexical_results])\n",
    "\n",
    "vector_summary = json.loads(runResultPicker(query,formatted_vector_results))\n",
    "lexical_summary = json.loads(runResultPicker(query,formatted_lexical_results))\n",
    "\n",
    "print(vector_summary['explanation'],vector_summary['results'])\n",
    "print(lexical_summary['explanation'],lexical_summary['results'])"
   ]
  },
  {
   "cell_type": "code",
   "execution_count": 94,
   "metadata": {},
   "outputs": [
    {
     "name": "stdout",
     "output_type": "stream",
     "text": [
      "{'stocks': ['MS', 'NFE']}\n"
     ]
    }
   ],
   "source": [
    "\n",
    "stocksSystemPrompt = \"\"\"You are a financial analyst providing advice and guidance to a client\"\"\"\n",
    "stocksQueryPrompt = f\"\"\"Review the following information with respect to the client's query: {query}.\n",
    "You must provide a list of stock symbols that would be of interest in the form:{{\"stocks\":[<list of symbols>]}}\n",
    "Here are the results of the vector searches:\n",
    "{formatted_vector_results}\n",
    "Here are the results of the lexical searches:\n",
    "{formatted_lexical_results}\n",
    "Only provide the stock symbols as a valid json response. Do not provide any other information.\"\"\"\n",
    "\n",
    "stocksAnswer = runChat(stocksQueryPrompt,stocksSystemPrompt)\n",
    "print(json.loads(stocksAnswer))"
   ]
  },
  {
   "cell_type": "markdown",
   "metadata": {},
   "source": [
    "This cell is not working for some reason. Maybe context prompt is too long for the window?"
   ]
  },
  {
   "cell_type": "code",
   "execution_count": 79,
   "metadata": {},
   "outputs": [],
   "source": [
    "# fundsVectorSearches = [vectorSearch(query,'funds_chunks','vectorIndex','content,nasdaq_tickers,tags,fund_name') for query in queries['vector']]\n",
    "# fundsLexicalSearches = [textSearch(query,'funds_chunks','searchIndex','content,nasdaq_tickers,tags,fund_name') for query in queries['lexical']]\n",
    "\n",
    "# formatted_funds_vector_results = '\\n'.join([r['formatted'] for r in fundsVectorSearches])\n",
    "# formatted_funds_lexical_results = '\\n'.join([r['formatted'] for r in fundsLexicalSearches])\n",
    "\n",
    "# fundsSummarySystemPrompt = \"\"\"You are a financial analyst providing advice and guidance to a client\"\"\"\n",
    "# fundsSummaryQueryPrompt = f\"\"\"Pick the ten results that can best be used to address the client's query: {query}.\n",
    "# You must also pick out the most relevant funds for the client's query.\n",
    "# You must provide your answer in the form:{{\"funds\":[<list of fund names>],\"results\":[{{\"title\":<result title>,\"content\":<result content>}}]}}\n",
    "# Here are the results of the vector searches:\n",
    "# {formatted_funds_vector_results}\n",
    "# Here are the results of the lexical searches:\n",
    "# {formatted_funds_lexical_results}\"\"\"\n",
    "\n",
    "\n",
    "# fundsSummaryAnswer = runChat4(fundsSummaryQueryPrompt,fundsSummarySystemPrompt)\n",
    "# print(json.loads(fundsSummaryAnswer))"
   ]
  },
  {
   "cell_type": "code",
   "execution_count": 124,
   "metadata": {},
   "outputs": [
    {
     "name": "stdout",
     "output_type": "stream",
     "text": [
      "{'BE', 'RDNT', 'BETE', 'FXI', 'NFE', 'SNOW', 'GOOGL', 'DELL', 'D', 'SATS', 'BRK.B', 'CRD.B', 'NIO', 'MS', 'ALEX', 'EME', 'COPJ', 'INTT', 'CARR', 'GS', 'SIX', 'AMRX', 'XLU', 'AMZN', 'BA', 'CEG', 'KARS', 'HON', 'EPR', 'BDSX', 'GEO', 'ROK', 'BRK.A', 'PLUG', 'FUN', 'KLIC', 'ALB', 'BCS', 'FUBO', 'AY', 'SQM', 'PNC', 'GOOG', 'ES', 'FIX', 'SCOR', 'ADBE', 'CSIQ', 'FSUGY', 'KOS', 'SIEGY'}\n",
      "{'https://www.nasdaq.com/articles/fortescue-ltd-depositary-receipt-fsugy-declares-$1.42-dividend', 'https://www.nasdaq.com/articles/dell-stock-weathers-pc-storm-seeking-growth-in-the-ai-revolution', 'https://www.nasdaq.com/articles/adbe-march-2025-options-begin-trading', 'https://www.nasdaq.com/articles/deutsche-bank-downgrades-new-fortress-energy-nfe', 'https://www.nasdaq.com/articles/kosmos-energy-to-offer-$300-mln-of-convertible-senior-notes', 'https://www.nasdaq.com/articles/november-15th-options-now-available-for-geo-group', 'https://www.nasdaq.com/articles/interesting-fxi-put-and-call-options-for-june-2025', 'https://www.nasdaq.com/articles/a-gentle-reminder-on-fashions-environmental-harm-from-stella-mccartney-at-paris-show', 'https://www.nasdaq.com/articles/daily-markets-stocks-face-jobs-data-powell-this-week', 'https://www.nasdaq.com/articles/google-backed-satellite-to-track-global-oil-industry-methane-emissions', 'https://www.nasdaq.com/articles/earn-while-you-sleep:-the-power-of-cryptocurrency-to-earn-passive-income', 'https://www.nasdaq.com/articles/asian-markets-track-wall-street-lower-22', 'https://www.nasdaq.com/articles/morgan-stanleys-earnings-escapade-and-uncharted-waters', 'https://www.nasdaq.com/articles/why-albemarle-stock-surged-more-than-20-in-february', 'https://www.nasdaq.com/articles/six-flags:-rollercoaster-earnings-and-a-merger-midway', 'https://www.nasdaq.com/articles/ftse-100-falls-as-resource-stocks-drag', 'https://www.nasdaq.com/articles/cs-brazil-2024-25-sugar-output-seen-falling-bp-bunge-bioenergia-ceo-says', 'https://www.nasdaq.com/articles/looking-to-start-earning-passive-income-in-march-check-out-these-top-monthly-dividend', 'https://www.nasdaq.com/articles/european-stocks-close-broadly-lower-ahead-of-key-data-ecb-policy', 'https://www.nasdaq.com/articles/monday-sector-leaders:-utilities-financial', 'https://www.nasdaq.com/articles/alexander-baldwin-alex-declares-$0.22-dividend-1', 'https://www.nasdaq.com/articles/csiq-november-15th-options-begin-trading', 'https://www.nasdaq.com/articles/capture-this-years-constructive-copper-outlook', 'https://www.nasdaq.com/articles/norsk-hydro-unit-to-buy-80-stake-in-wind-power-projects', 'https://www.nasdaq.com/articles/european-shares-decline-as-traders-await-powells-testimony', 'https://www.nasdaq.com/articles/march-2025-options-now-available-for-alphabet-goog', 'https://www.nasdaq.com/articles/soxs-bete:-big-etf-inflows', 'https://www.nasdaq.com/articles/ba-march-2025-options-begin-trading', 'https://www.nasdaq.com/articles/1-no-brainer-ai-stock-down-56-to-buy-and-hold-forever', 'https://www.nasdaq.com/articles/whats-at-the-intersection-of-crypto-and-ai-perhaps-murder', 'https://www.nasdaq.com/articles/first-week-of-august-16th-options-trading-for-mobileye-global-mbly', 'https://www.nasdaq.com/articles/first-week-of-pep-october-18th-options-trading', 'https://www.nasdaq.com/articles/february-2024-review-and-outlook', 'https://www.nasdaq.com/articles/be-december-20th-options-begin-trading', 'https://www.nasdaq.com/articles/warren-buffetts-letter-to-berkshire-hathaway-shareholders-just-reminded-investors-of-this', 'https://www.nasdaq.com/articles/diary-of-a-disrupter-empowering-women-in-entrepreneurship-investment-and-gender-equity', 'https://www.nasdaq.com/articles/france-mulls-penalties-to-rein-in-ultra-fast-fashion-brands', 'https://www.nasdaq.com/articles/eversource-energy-es-shares-cross-5-yield-mark', 'https://www.nasdaq.com/articles/may-17th-options-now-available-for-emcor-group-eme', 'https://www.nasdaq.com/articles/pros-and-cons-of-redomiciling-vs-cross-listing', 'https://www.nasdaq.com/articles/november-15th-options-now-available-for-kulicke-soffa-industries-klic', 'https://www.nasdaq.com/articles/sensex-nifty-drift-lower-as-china-sets-modest-gdp-target', 'https://www.nasdaq.com/articles/may-17th-options-now-available-for-lumentum-holdings-lite', 'https://www.nasdaq.com/articles/morgan-stanley-downgrades-p10-px', 'https://www.nasdaq.com/articles/european-shares-seen-tad-lower-at-open-3', 'https://www.nasdaq.com/articles/chinas-ev-industry-red-hot-consider-ev-etf-kars', 'https://www.nasdaq.com/articles/daily-markets-january-core-pce-today-manufacturing-pmi-tomorrow', 'https://www.nasdaq.com/articles/mondays-etf-with-unusual-volume:-ijh', 'https://www.nasdaq.com/articles/crawford-company-b-crd.b-q4-earnings-and-revenues-lag-estimates-revised', 'https://www.nasdaq.com/articles/seizing-future-opportunities:-blackrocks-mega-forces-and-thematic-etf-investing', 'https://www.nasdaq.com/articles/oil-unchanged-as-traders-take-profits-on-news-of-expected-extension-of-voluntary-output', 'https://www.nasdaq.com/articles/214-billion-reasons-to-buy-these-3-hot-stocks', 'https://www.nasdaq.com/articles/daily-markets-february-inflation-data-sets-tone-for-end-of-week-trading'}\n"
     ]
    }
   ],
   "source": [
    "stocks = set(json.loads(stocksAnswer)['stocks'])\n",
    "links = set()\n",
    "for r in all_vector_results+all_lexical_results:\n",
    "    stocks.update(r['metadata']['stock_symbols'])\n",
    "    links.update(r['metadata']['links'])\n",
    "\n",
    "print(stocks)\n",
    "print(links)\n",
    "vector_formatted = \"\\n\".join([f\"# {r['title']}\\n# Content\\n{r['content']}\" for r in vector_summary['results']])\n",
    "lexical_formatted = \"\\n\".join([f\"# {r['title']}\\n# Content\\n{r['content']}\" for r in lexical_summary['results']])\n",
    "links_string = \"\\n\".join(list(links)[:10])\n",
    "stocks_string = \",\".join(stocks)\n",
    "finalSystemPrompt = \"\"\"You are a financial analyst providing advice and guidance to a client.\"\"\"\n",
    "finalUserPrompt = f\"\"\"Provide a detailed summary of the information you have gathered for the client's query: {query}.\n",
    "You must reference specific companies, funds and stocks and news articles where appropriate.\n",
    "Vector Search results:\n",
    "{vector_formatted}\n",
    "Explanation:\n",
    "{vector_summary['explanation']}\n",
    "Lexical Search results:\n",
    "{lexical_formatted}\n",
    "Explanation:\n",
    "{lexical_summary['explanation']}\n",
    "relevant links:\n",
    "{links_string}\"\"\"\n",
    "\n",
    "finalAnswer = runChat(finalUserPrompt,finalSystemPrompt)"
   ]
  },
  {
   "cell_type": "code",
   "execution_count": 125,
   "metadata": {},
   "outputs": [
    {
     "name": "stdout",
     "output_type": "stream",
     "text": [
      "Based on the information gathered, there are several investment opportunities available for companies involved in climate change. One option is investing in ETFs specializing in clean energy or environmental sustainability for exposure to companies leading the transition towards a low-carbon economy, as mentioned in the \"Seizing Future Opportunities: BlackRock’s Mega Forces and Thematic ETF Investing\" article. Another option is to invest in companies involved in the production of copper, which is vital to the energy transition, according to the \"Capture This Year’s Constructive Copper Outlook\" article.\n",
      "\n",
      "There are also specific companies taking action towards climate change, such as Norsk Hydro's renewable energy unit acquiring an 80% stake in a wind power portfolio, as reported in the \"Norsk Hydro unit to buy 80% stake in wind power projects\" article. New Fortress Energy Inc. offers fully integrated, turnkey energy solutions to accelerate the world's transition to clean energy, as reported in the \"Deutsche Bank Downgrades New Fortress Energy (NFE)\" article.\n",
      "\n",
      "In addition, there is a new satellite project supported by Google and Environmental Defense Fund group that will launch with a mission to pinpoint oil and gas industry methane emissions from space, as mentioned in the \"Google-backed satellite to track global oil industry methane emissions\" article. This indicates that there are also opportunities to invest in companies taking innovative approaches towards climate change mitigation.\n",
      "\n",
      "Overall, there are several investment opportunities available for companies involved in climate change, ranging from ETFs specializing in clean energy to specific companies involved in wind power and natural gas infrastructure for clean energy solutions.\n",
      "BE,RDNT,BETE,FXI,NFE,SNOW,GOOGL,DELL,D,SATS,BRK.B,CRD.B,NIO,MS,ALEX,EME,COPJ,INTT,CARR,GS,SIX,AMRX,XLU,AMZN,BA,CEG,KARS,HON,EPR,BDSX,GEO,ROK,BRK.A,PLUG,FUN,KLIC,ALB,BCS,FUBO,AY,SQM,PNC,GOOG,ES,FIX,SCOR,ADBE,CSIQ,FSUGY,KOS,SIEGY\n",
      "https://www.nasdaq.com/articles/fortescue-ltd-depositary-receipt-fsugy-declares-$1.42-dividend\n",
      "https://www.nasdaq.com/articles/dell-stock-weathers-pc-storm-seeking-growth-in-the-ai-revolution\n",
      "https://www.nasdaq.com/articles/adbe-march-2025-options-begin-trading\n",
      "https://www.nasdaq.com/articles/deutsche-bank-downgrades-new-fortress-energy-nfe\n",
      "https://www.nasdaq.com/articles/kosmos-energy-to-offer-$300-mln-of-convertible-senior-notes\n",
      "https://www.nasdaq.com/articles/november-15th-options-now-available-for-geo-group\n",
      "https://www.nasdaq.com/articles/interesting-fxi-put-and-call-options-for-june-2025\n",
      "https://www.nasdaq.com/articles/a-gentle-reminder-on-fashions-environmental-harm-from-stella-mccartney-at-paris-show\n",
      "https://www.nasdaq.com/articles/daily-markets-stocks-face-jobs-data-powell-this-week\n",
      "https://www.nasdaq.com/articles/google-backed-satellite-to-track-global-oil-industry-methane-emissions\n"
     ]
    }
   ],
   "source": [
    "print(finalAnswer)\n",
    "print(stocks_string)\n",
    "print(links_string)\n"
   ]
  },
  {
   "cell_type": "code",
   "execution_count": null,
   "metadata": {},
   "outputs": [],
   "source": []
  }
 ],
 "metadata": {
  "kernelspec": {
   "display_name": "base",
   "language": "python",
   "name": "python3"
  },
  "language_info": {
   "codemirror_mode": {
    "name": "ipython",
    "version": 3
   },
   "file_extension": ".py",
   "mimetype": "text/x-python",
   "name": "python",
   "nbconvert_exporter": "python",
   "pygments_lexer": "ipython3",
   "version": "3.9.13"
  }
 },
 "nbformat": 4,
 "nbformat_minor": 2
}
